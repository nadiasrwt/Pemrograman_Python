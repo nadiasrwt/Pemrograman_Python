{
  "nbformat": 4,
  "nbformat_minor": 0,
  "metadata": {
    "colab": {
      "name": "Perhitungan LPB dan RTB",
      "provenance": [],
      "authorship_tag": "ABX9TyN6zbW+hG8IjU6K481eiU/U",
      "include_colab_link": true
    },
    "kernelspec": {
      "name": "python3",
      "display_name": "Python 3"
    },
    "language_info": {
      "name": "python"
    }
  },
  "cells": [
    {
      "cell_type": "markdown",
      "metadata": {
        "id": "view-in-github",
        "colab_type": "text"
      },
      "source": [
        "<a href=\"https://colab.research.google.com/github/nadiasrwt/Pemrograman_Python/blob/main/TubesSKO_TheodoreMaiman.ipynb\" target=\"_parent\"><img src=\"https://colab.research.google.com/assets/colab-badge.svg\" alt=\"Open In Colab\"/></a>"
      ]
    },
    {
      "cell_type": "markdown",
      "source": [
        "Perhitungan Tugas Besar SKO"
      ],
      "metadata": {
        "id": "P9KuQ224cVYN"
      }
    },
    {
      "cell_type": "code",
      "source": [
        "from math import log10, sqrt"
      ],
      "metadata": {
        "id": "NhO5fr0gcb3c"
      },
      "execution_count": 1,
      "outputs": []
    },
    {
      "cell_type": "code",
      "source": [
        "#-- Kabel FO G.652-SI-SM\n",
        "L=5.9 #km\n",
        "Haspel=4 #km\n",
        "disp_M=17e-12 #s/km.nm\n",
        "alpha_f=0.2 #dB/km"
      ],
      "metadata": {
        "id": "Zz4CGnxccjMN"
      },
      "execution_count": 2,
      "outputs": []
    },
    {
      "cell_type": "code",
      "source": [
        "#-- Pengirim\n",
        "Ptx=1.12 #mW\n",
        "Ptx_db=10*log10(Ptx)\n",
        "spektral=0.1 #nm\n",
        "t_tx=35e-12 #s\n",
        "Mod_NRZ=0.7 #NRZ\n",
        "Mod_RZ=0.35 #RZ\n",
        "Br=10.3125e9 #10.3125 Gbps\n",
        "Tb=1/Br #s"
      ],
      "metadata": {
        "id": "byd4sLb_d5cz"
      },
      "execution_count": 3,
      "outputs": []
    },
    {
      "cell_type": "code",
      "source": [
        "#-- Pengirim\n",
        "sensitivitas= -14.4 #dBm\n",
        "t_rx=35e-12 #s"
      ],
      "metadata": {
        "id": "B1H6qIcUgaHG"
      },
      "execution_count": 4,
      "outputs": []
    },
    {
      "cell_type": "code",
      "source": [
        "#-- Redaman kanal\n",
        "N_c=2\n",
        "alpha_c=0.1 #0.1 dB/titik\n",
        "N_sp=(L/Haspel)-1\n",
        "alpha_sp=0.1 #dB/titik\n",
        "Ms=3 #dB"
      ],
      "metadata": {
        "id": "C2OOuXUsiI_W"
      },
      "execution_count": 5,
      "outputs": []
    },
    {
      "cell_type": "markdown",
      "source": [
        "Link Power Budget"
      ],
      "metadata": {
        "id": "ghcQ81Vwjn55"
      }
    },
    {
      "cell_type": "code",
      "source": [
        "alpha_t=N_c*alpha_c+N_sp*alpha_sp+L*alpha_f*Ms\n",
        "print(\"Redaman Kabel \",alpha_t, \"dB\")"
      ],
      "metadata": {
        "colab": {
          "base_uri": "https://localhost:8080/"
        },
        "id": "BoCqx7ahjbLg",
        "outputId": "a9e775e9-8e08-496e-c3df-4a070d329cc2"
      },
      "execution_count": 6,
      "outputs": [
        {
          "output_type": "stream",
          "name": "stdout",
          "text": [
            "Redaman Kabel  3.7875000000000005 dB\n"
          ]
        }
      ]
    },
    {
      "cell_type": "code",
      "source": [
        "Prx=Ptx_db-alpha_t"
      ],
      "metadata": {
        "id": "C0WcbKzFkXHC"
      },
      "execution_count": 7,
      "outputs": []
    },
    {
      "cell_type": "code",
      "source": [
        "Prx"
      ],
      "metadata": {
        "colab": {
          "base_uri": "https://localhost:8080/"
        },
        "id": "ae7wJCSblBEw",
        "outputId": "4e216114-a833-4b2d-d059-2510642f7416"
      },
      "execution_count": 8,
      "outputs": [
        {
          "output_type": "execute_result",
          "data": {
            "text/plain": [
              "-3.295319773298184"
            ]
          },
          "metadata": {},
          "execution_count": 8
        }
      ]
    },
    {
      "cell_type": "code",
      "source": [
        "if Prx > sensitivitas:\n",
        "  print(\"LPB terpenuhi\")\n",
        "else:\n",
        "  print(\"Hitung Ulang LPB!\")"
      ],
      "metadata": {
        "colab": {
          "base_uri": "https://localhost:8080/"
        },
        "id": "mlGq6el4lCM2",
        "outputId": "45387782-0f02-486d-d18b-e07d9d3842f7"
      },
      "execution_count": 9,
      "outputs": [
        {
          "output_type": "stream",
          "name": "stdout",
          "text": [
            "LPB terpenuhi\n"
          ]
        }
      ]
    },
    {
      "cell_type": "markdown",
      "source": [
        "Rise Time Budget"
      ],
      "metadata": {
        "id": "4-3yGabblWZ7"
      }
    },
    {
      "cell_type": "code",
      "source": [
        "t_mat=disp_M*L*spektral\n",
        "t_wg=0 #diabaikan\n",
        "t_mod=0 #SM\n",
        "\n",
        "t_sys=sqrt(t_tx**2+t_mat**2+t_mod**2+t_wg**2+t_rx**2)"
      ],
      "metadata": {
        "id": "00SPIobRlZc2"
      },
      "execution_count": 10,
      "outputs": []
    },
    {
      "cell_type": "code",
      "source": [
        "t_sys"
      ],
      "metadata": {
        "colab": {
          "base_uri": "https://localhost:8080/"
        },
        "id": "SLqT59zvl4Hv",
        "outputId": "37eae259-cf21-41aa-86f2-ebc4bb5eedb1"
      },
      "execution_count": 11,
      "outputs": [
        {
          "output_type": "execute_result",
          "data": {
            "text/plain": [
              "5.0503474137924414e-11"
            ]
          },
          "metadata": {},
          "execution_count": 11
        }
      ]
    },
    {
      "cell_type": "code",
      "source": [
        "if(Tb*Mod_NRZ > t_sys) & (Tb*Mod_RZ > t_sys):\n",
        "  print(\"RTB terpenuhi\")\n",
        "elif Tb*Mod_NRZ > t_sys:\n",
        "  print(\"RTB untuk NRZ terpenuhi\")\n",
        "elif Tb*Mod_RZ > t_sys:\n",
        "  print(\"RTB untuk RZ terpenuhi\")\n",
        "else:\n",
        "  print(\"Hitung Ulang RTB!\")"
      ],
      "metadata": {
        "colab": {
          "base_uri": "https://localhost:8080/"
        },
        "id": "J_tsIIeml56T",
        "outputId": "065a47ff-39ff-40e8-8d39-2059398fe7c1"
      },
      "execution_count": 12,
      "outputs": [
        {
          "output_type": "stream",
          "name": "stdout",
          "text": [
            "RTB untuk NRZ terpenuhi\n"
          ]
        }
      ]
    }
  ]
}